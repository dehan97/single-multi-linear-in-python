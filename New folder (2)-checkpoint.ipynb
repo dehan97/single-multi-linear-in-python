{
 "cells": [
  {
   "cell_type": "code",
   "execution_count": 110,
   "metadata": {},
   "outputs": [
    {
     "name": "stdout",
     "output_type": "stream",
     "text": [
      "class\n",
      "Iris-setosa        245.9\n",
      "Iris-versicolor    296.8\n",
      "Iris-virginica     329.4\n",
      "Name: sepal_length, dtype: float64\n",
      "class\n",
      "Iris-setosa        167.7\n",
      "Iris-versicolor    138.5\n",
      "Iris-virginica     148.7\n",
      "Name: sepal_width, dtype: float64\n",
      "class\n",
      "Iris-setosa        1.46\n",
      "Iris-versicolor    4.26\n",
      "Iris-virginica     5.55\n",
      "Name: petal_length, dtype: float64\n",
      "class\n",
      "Iris-setosa        0.24\n",
      "Iris-versicolor    1.33\n",
      "Iris-virginica     2.03\n",
      "Name: petal_width, dtype: float64\n",
      "--- 0.046875715255737305 seconds ---\n"
     ]
    }
   ],
   "source": [
    "import pandas, time\n",
    "start_time = time.time()\n",
    "df1 = pandas.read_csv('iris.csv')\n",
    "\n",
    "#calculate total sepal length, total sepal width, average petal length\n",
    "#average petal width, for all 3 classes\n",
    "\n",
    "sepal_len_class = df1.groupby('class')['sepal_length'].sum()\n",
    "sepal_wid_class = df1.groupby('class')['sepal_width'].sum()\n",
    "avg_petal_len = round(df1.groupby('class')['petal_length'].mean(),2)\n",
    "avg_petal_wid = round(df1.groupby('class')['petal_width'].mean(),2)\n",
    "\n",
    "print(sepal_len_class)\n",
    "print(sepal_wid_class)\n",
    "print(avg_petal_len)\n",
    "print(avg_petal_wid)\n",
    "print(\"--- %s seconds ---\" % (time.time() - start_time))"
   ]
  }
 ],
 "metadata": {
  "celltoolbar": "Tags",
  "kernelspec": {
   "display_name": "Python 3",
   "language": "python",
   "name": "python3"
  },
  "language_info": {
   "codemirror_mode": {
    "name": "ipython",
    "version": 3
   },
   "file_extension": ".py",
   "mimetype": "text/x-python",
   "name": "python",
   "nbconvert_exporter": "python",
   "pygments_lexer": "ipython3",
   "version": "3.7.0"
  }
 },
 "nbformat": 4,
 "nbformat_minor": 2
}
